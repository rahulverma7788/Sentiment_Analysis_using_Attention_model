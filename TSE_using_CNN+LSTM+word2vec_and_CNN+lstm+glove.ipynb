{
  "nbformat": 4,
  "nbformat_minor": 0,
  "metadata": {
    "kernelspec": {
      "display_name": "Python 3",
      "language": "python",
      "name": "python3"
    },
    "language_info": {
      "codemirror_mode": {
        "name": "ipython",
        "version": 3
      },
      "file_extension": ".py",
      "mimetype": "text/x-python",
      "name": "python",
      "nbconvert_exporter": "python",
      "pygments_lexer": "ipython3",
      "version": "3.7.4"
    },
    "colab": {
      "name": "TSE_using_CNN+LSTM+word2vec_and_CNN+lstm+glove.ipynb",
      "provenance": []
    }
  },
  "cells": [
    {
      "cell_type": "code",
      "metadata": {
        "id": "dQ_-dpP_JWNx"
      },
      "source": [
        "import gensim\n",
        "import pandas as pd\n",
        "import keras\n",
        "import pickle\n",
        "import numpy as np"
      ],
      "execution_count": null,
      "outputs": []
    },
    {
      "cell_type": "code",
      "metadata": {
        "colab": {
          "base_uri": "https://localhost:8080/"
        },
        "id": "KpcvJsmGdWVP",
        "outputId": "298a8ef0-bd36-4935-b39e-a4244f0d4860"
      },
      "source": [
        "from google.colab import drive\n",
        "drive.mount('/content/drive')"
      ],
      "execution_count": null,
      "outputs": [
        {
          "output_type": "stream",
          "text": [
            "Mounted at /content/drive\n"
          ],
          "name": "stdout"
        }
      ]
    },
    {
      "cell_type": "code",
      "metadata": {
        "id": "hki5oyAdJWN0"
      },
      "source": [
        "filename='preprocessed_data.pkl'"
      ],
      "execution_count": null,
      "outputs": []
    },
    {
      "cell_type": "code",
      "metadata": {
        "id": "-szA1Gy4JWN0"
      },
      "source": [
        "data=pickle.load(open(filename,'rb')) ###open preprocessed data"
      ],
      "execution_count": null,
      "outputs": []
    },
    {
      "cell_type": "code",
      "metadata": {
        "colab": {
          "base_uri": "https://localhost:8080/"
        },
        "id": "B1xOtwN8JWN1",
        "outputId": "c5892a1b-66ad-4566-9a92-544ad5496f9e"
      },
      "source": [
        "len(data)"
      ],
      "execution_count": null,
      "outputs": [
        {
          "output_type": "execute_result",
          "data": {
            "text/plain": [
              "8450"
            ]
          },
          "metadata": {
            "tags": []
          },
          "execution_count": 4
        }
      ]
    },
    {
      "cell_type": "code",
      "metadata": {
        "colab": {
          "base_uri": "https://localhost:8080/"
        },
        "id": "V9nZXNtaJWN2",
        "outputId": "cdf0ba04-0a8d-4b17-d64f-a292aea397f4"
      },
      "source": [
        "Y= data.iloc[:,1].values\n",
        "Y"
      ],
      "execution_count": null,
      "outputs": [
        {
          "output_type": "execute_result",
          "data": {
            "text/plain": [
              "array([0, 0, 0, ..., 0, 0, 0])"
            ]
          },
          "metadata": {
            "tags": []
          },
          "execution_count": 5
        }
      ]
    },
    {
      "cell_type": "code",
      "metadata": {
        "id": "PVeMjKfnJWN3"
      },
      "source": [
        "###Manually resolve the tabbed data errors\n",
        "\n",
        "index = [791,  792,  793,  830,  831,  832,  833,  839,  844, 846, 852,  853,\n",
        "         855,  858,  860,  876,  882,  890,  892,  904,  909,  912,  936,\n",
        "         938,  943,  945,  957,  964,  965,  967,  969,  972,  975,  976,\n",
        "        1000, 1007, 1013, 1018, 1297] \n",
        "for i in index:\n",
        "    Y[i] = 0  ###replace value of selected indices of AD column with 0\n",
        "\n",
        "idx = [1072, 1101, 1184, 1244]\n",
        "for i in idx:\n",
        "    Y[i] = 1  ###replace value of selected indices of AD column with 1\n",
        "Y = Y.astype(int)"
      ],
      "execution_count": null,
      "outputs": []
    },
    {
      "cell_type": "code",
      "metadata": {
        "id": "qdfW718pJWN4"
      },
      "source": [
        "X = data['Transcript'].tolist()"
      ],
      "execution_count": null,
      "outputs": []
    },
    {
      "cell_type": "code",
      "metadata": {
        "id": "K9I_XDcQJWN4"
      },
      "source": [
        "from sklearn.model_selection import train_test_split"
      ],
      "execution_count": null,
      "outputs": []
    },
    {
      "cell_type": "code",
      "metadata": {
        "id": "-iT0lCvzJWN4"
      },
      "source": [
        "X_train, X_test, Y_train, Y_test = train_test_split(X,Y, test_size = 0.2, random_state = 0) ##split the data in training and testing"
      ],
      "execution_count": null,
      "outputs": []
    },
    {
      "cell_type": "code",
      "metadata": {
        "colab": {
          "base_uri": "https://localhost:8080/"
        },
        "id": "iIN9Nw37JWN5",
        "outputId": "e584bcbc-c6a4-44ce-a6ff-86ab78315ed8"
      },
      "source": [
        "print(len(X_train)) ###length of training, testing data\n",
        "print(len(X_test))\n",
        "print(len(Y_train))\n",
        "print(len(Y_test))"
      ],
      "execution_count": null,
      "outputs": [
        {
          "output_type": "stream",
          "text": [
            "6760\n",
            "1690\n",
            "6760\n",
            "1690\n"
          ],
          "name": "stdout"
        }
      ]
    },
    {
      "cell_type": "code",
      "metadata": {
        "id": "f4j6sPo3JWN5"
      },
      "source": [
        "from keras.preprocessing.text import Tokenizer\n",
        "from keras.preprocessing.sequence import pad_sequences"
      ],
      "execution_count": null,
      "outputs": []
    },
    {
      "cell_type": "code",
      "metadata": {
        "id": "9U-Wd1zfJWN6"
      },
      "source": [
        "def create_tokens(lines):\n",
        "    tokens = Tokenizer()        ###function to create tokens\n",
        "    tokens.fit_on_texts(lines)\n",
        "    return tokens"
      ],
      "execution_count": null,
      "outputs": []
    },
    {
      "cell_type": "code",
      "metadata": {
        "id": "jDTmupq-JWN6"
      },
      "source": [
        "train_tokenizer = create_tokens(X_train)"
      ],
      "execution_count": null,
      "outputs": []
    },
    {
      "cell_type": "code",
      "metadata": {
        "id": "V5MOK_oXJWN7"
      },
      "source": [
        "def encode_sentences(tokens,length,lines):   ###function to pad the data to maximum phrase length\n",
        "    X=tokens.texts_to_sequences(lines)\n",
        "    X=pad_sequences(X,length,padding='post')\n",
        "    return X"
      ],
      "execution_count": null,
      "outputs": []
    },
    {
      "cell_type": "code",
      "metadata": {
        "id": "cQNgG2ClJWN7"
      },
      "source": [
        "X_train = encode_sentences(train_tokenizer,100, X_train)\n",
        "X_test = encode_sentences(train_tokenizer,100, X_test)"
      ],
      "execution_count": null,
      "outputs": []
    },
    {
      "cell_type": "code",
      "metadata": {
        "colab": {
          "base_uri": "https://localhost:8080/"
        },
        "id": "zyB2KScDJWN8",
        "outputId": "c69d1db5-eb72-4f7c-b59a-ffda35e9f931"
      },
      "source": [
        "print(X_train.shape)   ###check for dimensions\n",
        "print(X_test.shape)\n",
        "print(Y_train.shape)\n",
        "print(Y_test.shape)"
      ],
      "execution_count": null,
      "outputs": [
        {
          "output_type": "stream",
          "text": [
            "(6760, 100)\n",
            "(1690, 100)\n",
            "(6760,)\n",
            "(1690,)\n"
          ],
          "name": "stdout"
        }
      ]
    },
    {
      "cell_type": "code",
      "metadata": {
        "colab": {
          "base_uri": "https://localhost:8080/"
        },
        "id": "W_E2PHtGJWN8",
        "outputId": "17979e4e-ec4f-4c86-df08-a5c807045cd8"
      },
      "source": [
        "vocab_len= len(train_tokenizer.word_index ) + 1 \n",
        "vocab_len   ###vocab length"
      ],
      "execution_count": null,
      "outputs": [
        {
          "output_type": "execute_result",
          "data": {
            "text/plain": [
              "8741"
            ]
          },
          "metadata": {
            "tags": []
          },
          "execution_count": 17
        }
      ]
    },
    {
      "cell_type": "code",
      "metadata": {
        "id": "favt_KBBJWN9"
      },
      "source": [
        "from keras.models import Sequential\n",
        "from keras.layers import Embedding\n",
        "from keras.layers import Conv1D, LSTM, Bidirectional\n",
        "from keras.layers import MaxPooling1D\n",
        "from keras.layers import Flatten\n",
        "from keras.layers import Dense \n",
        "from keras.layers import Dropout\n",
        "from keras.callbacks import ModelCheckpoint\n",
        "from keras.constraints import maxnorm\n",
        "from sklearn.model_selection import GridSearchCV\n",
        "from keras.wrappers.scikit_learn import KerasClassifier"
      ],
      "execution_count": null,
      "outputs": []
    },
    {
      "cell_type": "code",
      "metadata": {
        "id": "RbjkyNMjJWN9"
      },
      "source": [
        "model = Sequential()\n",
        "e = Embedding(vocab_len, 100, input_length= 100)\n",
        "model.add(e)\n",
        "model.add(Conv1D(filters=128,kernel_size=3,activation='relu',strides= 1, kernel_initializer='he_uniform'))\n",
        "model.add(MaxPooling1D(pool_size=4))\n",
        "model.add(Bidirectional(LSTM(20)))\n",
        "model.add(Dropout(0.2))\n",
        "model.add(Dense(units = 1, activation = 'sigmoid', kernel_initializer= 'glorot_uniform'))\n",
        "model.compile(optimizer='Adam', loss = 'binary_crossentropy', metrics = ['accuracy'])"
      ],
      "execution_count": null,
      "outputs": []
    },
    {
      "cell_type": "code",
      "metadata": {
        "id": "NcNXOLYAJWN-"
      },
      "source": [
        ""
      ],
      "execution_count": null,
      "outputs": []
    },
    {
      "cell_type": "code",
      "metadata": {
        "colab": {
          "base_uri": "https://localhost:8080/"
        },
        "id": "kgx2YitYJWN-",
        "outputId": "b3b5eadd-5590-4264-f2eb-e99c8e4b5556"
      },
      "source": [
        "cnn_lstm_history=model.fit(X_train, Y_train, epochs = 5, batch_size = 64, verbose = 1, validation_split = 0.1)"
      ],
      "execution_count": null,
      "outputs": [
        {
          "output_type": "stream",
          "text": [
            "Epoch 1/5\n",
            "96/96 [==============================] - 12s 79ms/step - loss: 0.3414 - accuracy: 0.9311 - val_loss: 0.1645 - val_accuracy: 0.9393\n",
            "Epoch 2/5\n",
            "96/96 [==============================] - 6s 66ms/step - loss: 0.1374 - accuracy: 0.9425 - val_loss: 0.1128 - val_accuracy: 0.9615\n",
            "Epoch 3/5\n",
            "96/96 [==============================] - 6s 66ms/step - loss: 0.0608 - accuracy: 0.9805 - val_loss: 0.1210 - val_accuracy: 0.9615\n",
            "Epoch 4/5\n",
            "96/96 [==============================] - 6s 66ms/step - loss: 0.0314 - accuracy: 0.9913 - val_loss: 0.1392 - val_accuracy: 0.9541\n",
            "Epoch 5/5\n",
            "96/96 [==============================] - 6s 66ms/step - loss: 0.0204 - accuracy: 0.9936 - val_loss: 0.1548 - val_accuracy: 0.9586\n"
          ],
          "name": "stdout"
        }
      ]
    },
    {
      "cell_type": "code",
      "metadata": {
        "colab": {
          "base_uri": "https://localhost:8080/"
        },
        "id": "AjAIg6OEJWN-",
        "outputId": "9394268c-3136-4b63-8b9d-b2118c9500d7"
      },
      "source": [
        "score = model.evaluate(X_test,Y_test,verbose = 1)\n",
        "score[1]"
      ],
      "execution_count": null,
      "outputs": [
        {
          "output_type": "stream",
          "text": [
            "53/53 [==============================] - 1s 10ms/step - loss: 0.1415 - accuracy: 0.9633\n"
          ],
          "name": "stdout"
        },
        {
          "output_type": "execute_result",
          "data": {
            "text/plain": [
              "0.963313639163971"
            ]
          },
          "metadata": {
            "tags": []
          },
          "execution_count": 21
        }
      ]
    },
    {
      "cell_type": "code",
      "metadata": {
        "colab": {
          "base_uri": "https://localhost:8080/",
          "height": 295
        },
        "id": "6UjEF-T3JWN_",
        "outputId": "c2941fbb-6887-41ff-f0e0-3c06a6928820"
      },
      "source": [
        "import matplotlib.pyplot as plt                             ###plot loss on train and val data\n",
        "plt.plot(cnn_lstm_history.history['loss'])\n",
        "plt.plot(cnn_lstm_history.history['val_loss'])\n",
        "plt.title('Model Loss Plot')\n",
        "plt.xlabel('Epochs')\n",
        "plt.ylabel('Loss')\n",
        "plt.legend(['Train', 'Test'],loc = 'upper right')\n",
        "plt.show()"
      ],
      "execution_count": null,
      "outputs": [
        {
          "output_type": "display_data",
          "data": {
            "image/png": "[encoded data removed]",
            "text/plain": [
              "<Figure size 432x288 with 1 Axes>"
            ]
          },
          "metadata": {
            "tags": [],
            "needs_background": "light"
          }
        }
      ]
    },
    {
      "cell_type": "code",
      "metadata": {
        "id": "NmswLLcqJWN_"
      },
      "source": [
        "model.save('cnn_lstm_model.hdf5')   ###save the model"
      ],
      "execution_count": null,
      "outputs": []
    },
    {
      "cell_type": "code",
      "metadata": {
        "id": "K4itQudOJWOA"
      },
      "source": [
        "model.load_weights('cnn_lstm_model.hdf5')"
      ],
      "execution_count": null,
      "outputs": []
    },
    {
      "cell_type": "code",
      "metadata": {
        "id": "YWswtJi0JWOA"
      },
      "source": [
        "from sklearn.metrics import precision_score, recall_score, f1_score, confusion_matrix, roc_curve, roc_auc_score\n",
        "import matplotlib.pyplot as plt"
      ],
      "execution_count": null,
      "outputs": []
    },
    {
      "cell_type": "code",
      "metadata": {
        "id": "ZO4_qMIHJWOA"
      },
      "source": [
        "Y_pred = model.predict(X_test)\n",
        "Y_pred = (Y_pred >0.5)"
      ],
      "execution_count": null,
      "outputs": []
    },
    {
      "cell_type": "code",
      "metadata": {
        "colab": {
          "base_uri": "https://localhost:8080/"
        },
        "id": "Zoqb1FsWJWOB",
        "outputId": "1d738421-da87-4191-a788-7e4bbe2cfe4c"
      },
      "source": [
        "confusion = confusion_matrix(Y_test,Y_pred)        ###Model evaluation\n",
        "precision = precision_score(Y_test,Y_pred)\n",
        "recall = recall_score(Y_test,Y_pred)\n",
        "F1 = f1_score(Y_test,Y_pred)\n",
        "specificity = (confusion[0][0]/(confusion[0][0]+confusion[0][1]))\n",
        "print('confusion matrix {}'.format(confusion))\n",
        "print('precision is {}'.format(precision))\n",
        "print('recall is  {}'.format(recall))\n",
        "print('F1 score {}'.format(F1))\n",
        "print('specificity is {}'.format(specificity))"
      ],
      "execution_count": null,
      "outputs": [
        {
          "output_type": "stream",
          "text": [
            "confusion matrix [[1564   26]\n",
            " [  36   64]]\n",
            "precision is 0.7111111111111111\n",
            "recall is  0.64\n",
            "F1 score 0.6736842105263158\n",
            "specificity is 0.9836477987421384\n"
          ],
          "name": "stdout"
        }
      ]
    },
    {
      "cell_type": "code",
      "metadata": {
        "colab": {
          "base_uri": "https://localhost:8080/",
          "height": 319
        },
        "id": "f59zs1QMJWOB",
        "outputId": "2c329900-6120-468d-b3fe-ef7dea3e180a"
      },
      "source": [
        "Y_pred_proba = model.predict_proba(X_test)\n",
        "fpr, tpr, _ = roc_curve(Y_test, Y_pred_proba)\n",
        "auc = roc_auc_score(Y_test, Y_pred_proba)\n",
        "plt.plot(fpr,tpr,label=\"data 1, auc=\"+str(auc))\n",
        "plt.legend(loc=4)\n",
        "plt.show()"
      ],
      "execution_count": null,
      "outputs": [
        {
          "output_type": "stream",
          "text": [
            "/usr/local/lib/python3.7/dist-packages/tensorflow/python/keras/engine/sequential.py:425: UserWarning: `model.predict_proba()` is deprecated and will be removed after 2021-01-01. Please use `model.predict()` instead.\n",
            "  warnings.warn('`model.predict_proba()` is deprecated and '\n"
          ],
          "name": "stderr"
        },
        {
          "output_type": "display_data",
          "data": {
            "image/png": "[encoded data removed]",
            "text/plain": [
              "<Figure size 432x288 with 1 Axes>"
            ]
          },
          "metadata": {
            "tags": [],
            "needs_background": "light"
          }
        }
      ]
    },
    {
      "cell_type": "code",
      "metadata": {
        "id": "OJsexMBQJWOC"
      },
      "source": [
        "embeddings = dict()      \n",
        "example1 = \"/content/drive/MyDrive/glove.6B.50d.txt\"\n",
        "                           ##read glove vector file\n",
        "f = open(example1, \"r\")\n",
        "for line in f:\n",
        "    values = line.split()\n",
        "    word = values[0]\n",
        "    vectors = np.asarray(values[1:],dtype='float32')\n",
        "    embeddings[word]=vectors\n",
        "f.close()"
      ],
      "execution_count": null,
      "outputs": []
    },
    {
      "cell_type": "code",
      "metadata": {
        "id": "fsK_NHVDJWOD"
      },
      "source": [
        "embedding_matrix = np.zeros((vocab_len, 50))      ###create a matrix consist of words and its vectors\n",
        "for word, i in train_tokenizer.word_index.items():\n",
        "    embedding_vector = embeddings.get(word)\n",
        "    if embedding_vector is not None:\n",
        "        embedding_matrix[i] = embedding_vector"
      ],
      "execution_count": null,
      "outputs": []
    },
    {
      "cell_type": "code",
      "metadata": {
        "id": "XR6DE_wEJWOD"
      },
      "source": [
        "\n",
        "model = Sequential()\n",
        "e = Embedding(vocab_len, 50, input_length= 100, weights = [embedding_matrix], trainable= False)\n",
        "model.add(e)\n",
        "model.add(Conv1D(filters=128,kernel_size=3,activation='relu',strides= 1, kernel_initializer='he_uniform'))\n",
        "model.add(MaxPooling1D(pool_size=4))\n",
        "model.add(Bidirectional(LSTM(128)))\n",
        "model.add(Dropout(0.2))\n",
        "model.add(Dense(units = 1, activation = 'sigmoid', kernel_initializer= 'glorot_uniform'))\n",
        "model.compile(optimizer='Adam', loss = 'binary_crossentropy', metrics = ['accuracy'])"
      ],
      "execution_count": null,
      "outputs": []
    },
    {
      "cell_type": "code",
      "metadata": {
        "colab": {
          "base_uri": "https://localhost:8080/"
        },
        "id": "pxCISXMRJWOE",
        "outputId": "6f23c795-1cfc-4787-f6fd-4b50605626c8"
      },
      "source": [
        "cnn_lstm_pretrained_history=model.fit(X_train, Y_train, epochs = 3, batch_size = 64, verbose = 1, validation_split = 0.1)"
      ],
      "execution_count": null,
      "outputs": [
        {
          "output_type": "stream",
          "text": [
            "Epoch 1/3\n",
            "96/96 [==============================] - 16s 131ms/step - loss: 0.2469 - accuracy: 0.9216 - val_loss: 0.1383 - val_accuracy: 0.9497\n",
            "Epoch 2/3\n",
            "96/96 [==============================] - 12s 121ms/step - loss: 0.1206 - accuracy: 0.9555 - val_loss: 0.1133 - val_accuracy: 0.9556\n",
            "Epoch 3/3\n",
            "96/96 [==============================] - 12s 120ms/step - loss: 0.1009 - accuracy: 0.9628 - val_loss: 0.0988 - val_accuracy: 0.9645\n"
          ],
          "name": "stdout"
        }
      ]
    },
    {
      "cell_type": "code",
      "metadata": {
        "colab": {
          "base_uri": "https://localhost:8080/"
        },
        "id": "HmfMKspsJWOE",
        "outputId": "b26a393e-e947-4613-94db-983e1cf34c76"
      },
      "source": [
        "score = model.evaluate(X_test,Y_test,verbose = 1)\n",
        "score[1]"
      ],
      "execution_count": null,
      "outputs": [
        {
          "output_type": "stream",
          "text": [
            "53/53 [==============================] - 1s 16ms/step - loss: 0.1086 - accuracy: 0.9639\n"
          ],
          "name": "stdout"
        },
        {
          "output_type": "execute_result",
          "data": {
            "text/plain": [
              "0.9639053344726562"
            ]
          },
          "metadata": {
            "tags": []
          },
          "execution_count": 39
        }
      ]
    },
    {
      "cell_type": "code",
      "metadata": {
        "id": "fipQb6nFJWOF"
      },
      "source": [
        "def model_cnn_lstm_create(optimizer = 'Adam',\n",
        "                 dropout_rate = 0.2, nb_filters = 256, kernel_size = 5,pool_size=4,units = 128):\n",
        "    \n",
        "    model = Sequential()\n",
        "    e = Embedding(vocab_len, 50, input_length= 100, weights = [embedding_matrix], trainable= False)\n",
        "    model.add(e)\n",
        "    model.add(Conv1D(nb_filters, kernel_size, activation = 'relu',strides = 1, kernel_initializer= 'he_uniform'))   \n",
        "    model.add(MaxPooling1D(pool_size = pool_size))\n",
        "    model.add(Bidirectional(LSTM(units)))\n",
        "    model.add(Dense(units = 1, activation = 'sigmoid', kernel_initializer= 'glorot_uniform'))   \n",
        "    model.compile(optimizer = optimizer, loss = 'binary_crossentropy', metrics = ['accuracy'])\n",
        "    \n",
        "    return model"
      ],
      "execution_count": null,
      "outputs": []
    },
    {
      "cell_type": "code",
      "metadata": {
        "colab": {
          "base_uri": "https://localhost:8080/"
        },
        "id": "uVdwZLUlJWOF",
        "outputId": "7ddf2b26-240c-47db-fe3e-a927b4e2c733"
      },
      "source": [
        "param_grid = {\n",
        "    'units': [10,20,64,128]\n",
        "\n",
        "}                                                             ####perform grid search to find the hyperparameters\n",
        "\n",
        "model = KerasClassifier(build_fn = model_cnn_lstm_create, verbose = 2)\n",
        "grid_search = GridSearchCV(estimator = model, param_grid = param_grid, verbose = 2)\n",
        "grid_results = grid_search.fit(X_train, Y_train, epochs = 1)\n",
        "print('Best accuracy: ', grid_results.best_score_)\n",
        "print('Best parameters: ', grid_results.best_params_)"
      ],
      "execution_count": null,
      "outputs": [
        {
          "output_type": "stream",
          "text": [
            "Fitting 5 folds for each of 4 candidates, totalling 20 fits\n",
            "[CV] units=10 ........................................................\n"
          ],
          "name": "stdout"
        },
        {
          "output_type": "stream",
          "text": [
            "[Parallel(n_jobs=1)]: Using backend SequentialBackend with 1 concurrent workers.\n"
          ],
          "name": "stderr"
        },
        {
          "output_type": "stream",
          "text": [
            "Epoch 1/2\n",
            "169/169 - 8s - loss: 0.2196 - accuracy: 0.9342\n",
            "Epoch 2/2\n",
            "169/169 - 5s - loss: 0.1319 - accuracy: 0.9432\n",
            "43/43 - 1s - loss: 0.1321 - accuracy: 0.9519\n",
            "[CV] ......................................... units=10, total=  15.5s\n",
            "[CV] units=10 ........................................................\n"
          ],
          "name": "stdout"
        },
        {
          "output_type": "stream",
          "text": [
            "[Parallel(n_jobs=1)]: Done   1 out of   1 | elapsed:   15.5s remaining:    0.0s\n"
          ],
          "name": "stderr"
        },
        {
          "output_type": "stream",
          "text": [
            "Epoch 1/2\n",
            "169/169 - 8s - loss: 0.2148 - accuracy: 0.9331\n",
            "Epoch 2/2\n",
            "169/169 - 5s - loss: 0.1223 - accuracy: 0.9588\n",
            "43/43 - 1s - loss: 0.1285 - accuracy: 0.9519\n",
            "[CV] ......................................... units=10, total=  14.9s\n",
            "[CV] units=10 ........................................................\n",
            "Epoch 1/2\n",
            "169/169 - 8s - loss: 0.1978 - accuracy: 0.9351\n",
            "Epoch 2/2\n",
            "169/169 - 5s - loss: 0.1211 - accuracy: 0.9584\n",
            "43/43 - 1s - loss: 0.0979 - accuracy: 0.9689\n",
            "[CV] ......................................... units=10, total=  15.5s\n",
            "[CV] units=10 ........................................................\n",
            "Epoch 1/2\n",
            "169/169 - 8s - loss: 0.1847 - accuracy: 0.9375\n",
            "Epoch 2/2\n",
            "169/169 - 5s - loss: 0.1107 - accuracy: 0.9638\n",
            "43/43 - 1s - loss: 0.1021 - accuracy: 0.9660\n",
            "[CV] ......................................... units=10, total=  14.9s\n",
            "[CV] units=10 ........................................................\n",
            "Epoch 1/2\n",
            "169/169 - 8s - loss: 0.1758 - accuracy: 0.9451\n",
            "Epoch 2/2\n",
            "169/169 - 5s - loss: 0.1131 - accuracy: 0.9647\n",
            "43/43 - 1s - loss: 0.1170 - accuracy: 0.9601\n",
            "[CV] ......................................... units=10, total=  15.5s\n",
            "[CV] units=20 ........................................................\n",
            "Epoch 1/2\n",
            "169/169 - 8s - loss: 0.1767 - accuracy: 0.9425\n",
            "Epoch 2/2\n",
            "169/169 - 6s - loss: 0.1094 - accuracy: 0.9614\n",
            "43/43 - 2s - loss: 0.1214 - accuracy: 0.9623\n",
            "[CV] ......................................... units=20, total=  16.1s\n",
            "[CV] units=20 ........................................................\n",
            "Epoch 1/2\n",
            "169/169 - 8s - loss: 0.1768 - accuracy: 0.9393\n",
            "Epoch 2/2\n",
            "169/169 - 6s - loss: 0.1022 - accuracy: 0.9678\n",
            "43/43 - 1s - loss: 0.1170 - accuracy: 0.9556\n",
            "[CV] ......................................... units=20, total=  15.8s\n",
            "[CV] units=20 ........................................................\n",
            "Epoch 1/2\n",
            "169/169 - 8s - loss: 0.1918 - accuracy: 0.9364\n",
            "Epoch 2/2\n",
            "169/169 - 6s - loss: 0.1130 - accuracy: 0.9606\n",
            "43/43 - 1s - loss: 0.0956 - accuracy: 0.9660\n",
            "[CV] ......................................... units=20, total=  15.7s\n",
            "[CV] units=20 ........................................................\n",
            "Epoch 1/2\n",
            "169/169 - 8s - loss: 0.1873 - accuracy: 0.9384\n",
            "Epoch 2/2\n",
            "169/169 - 6s - loss: 0.1075 - accuracy: 0.9643\n",
            "43/43 - 1s - loss: 0.1029 - accuracy: 0.9660\n",
            "[CV] ......................................... units=20, total=  16.4s\n",
            "[CV] units=20 ........................................................\n",
            "Epoch 1/2\n",
            "169/169 - 8s - loss: 0.1820 - accuracy: 0.9364\n",
            "Epoch 2/2\n",
            "169/169 - 6s - loss: 0.1093 - accuracy: 0.9626\n",
            "43/43 - 1s - loss: 0.1188 - accuracy: 0.9504\n",
            "[CV] ......................................... units=20, total=  15.7s\n",
            "[CV] units=64 ........................................................\n",
            "Epoch 1/2\n",
            "169/169 - 11s - loss: 0.1620 - accuracy: 0.9475\n",
            "Epoch 2/2\n",
            "169/169 - 8s - loss: 0.1004 - accuracy: 0.9651\n",
            "43/43 - 1s - loss: 0.1281 - accuracy: 0.9623\n",
            "[CV] ......................................... units=64, total=  22.2s\n",
            "[CV] units=64 ........................................................\n",
            "Epoch 1/2\n",
            "169/169 - 11s - loss: 0.1493 - accuracy: 0.9495\n",
            "Epoch 2/2\n",
            "169/169 - 9s - loss: 0.0915 - accuracy: 0.9699\n",
            "43/43 - 1s - loss: 0.1291 - accuracy: 0.9534\n",
            "[CV] ......................................... units=64, total=  21.8s\n",
            "[CV] units=64 ........................................................\n",
            "Epoch 1/2\n",
            "169/169 - 11s - loss: 0.1605 - accuracy: 0.9445\n",
            "Epoch 2/2\n",
            "169/169 - 9s - loss: 0.0990 - accuracy: 0.9656\n",
            "43/43 - 1s - loss: 0.0966 - accuracy: 0.9667\n",
            "[CV] ......................................... units=64, total=  22.4s\n",
            "[CV] units=64 ........................................................\n",
            "Epoch 1/2\n",
            "169/169 - 11s - loss: 0.1595 - accuracy: 0.9447\n",
            "Epoch 2/2\n",
            "169/169 - 9s - loss: 0.0950 - accuracy: 0.9676\n",
            "43/43 - 1s - loss: 0.0952 - accuracy: 0.9726\n",
            "[CV] ......................................... units=64, total=  21.6s\n",
            "[CV] units=64 ........................................................\n",
            "Epoch 1/2\n",
            "169/169 - 11s - loss: 0.1542 - accuracy: 0.9486\n",
            "Epoch 2/2\n",
            "169/169 - 9s - loss: 0.0944 - accuracy: 0.9680\n",
            "43/43 - 1s - loss: 0.1069 - accuracy: 0.9593\n",
            "[CV] ......................................... units=64, total=  22.3s\n",
            "[CV] units=128 .......................................................\n",
            "Epoch 1/2\n",
            "169/169 - 20s - loss: 0.1590 - accuracy: 0.9416\n",
            "Epoch 2/2\n",
            "169/169 - 17s - loss: 0.0934 - accuracy: 0.9689\n",
            "43/43 - 2s - loss: 0.1121 - accuracy: 0.9675\n",
            "[CV] ........................................ units=128, total=  39.2s\n",
            "[CV] units=128 .......................................................\n",
            "Epoch 1/2\n",
            "169/169 - 20s - loss: 0.1648 - accuracy: 0.9423\n",
            "Epoch 2/2\n",
            "169/169 - 17s - loss: 0.0939 - accuracy: 0.9686\n",
            "43/43 - 2s - loss: 0.1240 - accuracy: 0.9519\n",
            "[CV] ........................................ units=128, total=  40.0s\n",
            "[CV] units=128 .......................................................\n",
            "Epoch 1/2\n",
            "169/169 - 20s - loss: 0.1666 - accuracy: 0.9384\n",
            "Epoch 2/2\n",
            "169/169 - 17s - loss: 0.1006 - accuracy: 0.9658\n",
            "43/43 - 2s - loss: 0.0930 - accuracy: 0.9726\n",
            "[CV] ........................................ units=128, total=  39.0s\n",
            "[CV] units=128 .......................................................\n",
            "Epoch 1/2\n",
            "169/169 - 20s - loss: 0.1623 - accuracy: 0.9410\n",
            "Epoch 2/2\n",
            "169/169 - 17s - loss: 0.0990 - accuracy: 0.9678\n",
            "43/43 - 2s - loss: 0.0954 - accuracy: 0.9645\n",
            "[CV] ........................................ units=128, total=  40.0s\n",
            "[CV] units=128 .......................................................\n",
            "Epoch 1/2\n",
            "169/169 - 20s - loss: 0.1584 - accuracy: 0.9471\n",
            "Epoch 2/2\n",
            "169/169 - 17s - loss: 0.0956 - accuracy: 0.9669\n",
            "43/43 - 2s - loss: 0.1070 - accuracy: 0.9630\n",
            "[CV] ........................................ units=128, total=  39.5s\n"
          ],
          "name": "stdout"
        },
        {
          "output_type": "stream",
          "text": [
            "[Parallel(n_jobs=1)]: Done  20 out of  20 | elapsed:  7.7min finished\n"
          ],
          "name": "stderr"
        },
        {
          "output_type": "stream",
          "text": [
            "Epoch 1/2\n",
            "212/212 - 26s - loss: 0.1434 - accuracy: 0.9506\n",
            "Epoch 2/2\n",
            "212/212 - 22s - loss: 0.0871 - accuracy: 0.9695\n",
            "Best accuracy:  0.9639053225517273\n",
            "Best parameters:  {'units': 128}\n"
          ],
          "name": "stdout"
        }
      ]
    },
    {
      "cell_type": "code",
      "metadata": {
        "colab": {
          "base_uri": "https://localhost:8080/"
        },
        "id": "n-R-eMZmJWOG",
        "outputId": "a982f27c-5021-484e-dd77-5eee0a341bbc"
      },
      "source": [
        "param_grid = {\n",
        "    'optimizer': ['RMSprop','Adam','SGD'],\n",
        "}                                                             ####perform grid search to find the hyperparameters\n",
        "\n",
        "model = KerasClassifier(build_fn = model_cnn_lstm_create, verbose = 2)\n",
        "grid_search = GridSearchCV(estimator = model, param_grid = param_grid, verbose = 2)\n",
        "grid_results = grid_search.fit(X_train, Y_train, epochs = 2)\n",
        "print('Best accuracy: ', grid_results.best_score_)\n",
        "print('Best parameters: ', grid_results.best_params_)"
      ],
      "execution_count": null,
      "outputs": [
        {
          "output_type": "stream",
          "text": [
            "Fitting 5 folds for each of 3 candidates, totalling 15 fits\n",
            "[CV] optimizer=RMSprop ...............................................\n"
          ],
          "name": "stdout"
        },
        {
          "output_type": "stream",
          "text": [
            "[Parallel(n_jobs=1)]: Using backend SequentialBackend with 1 concurrent workers.\n"
          ],
          "name": "stderr"
        },
        {
          "output_type": "stream",
          "text": [
            "Epoch 1/2\n",
            "169/169 - 20s - loss: 0.1479 - accuracy: 0.9449\n",
            "Epoch 2/2\n",
            "169/169 - 17s - loss: 0.0955 - accuracy: 0.9669\n",
            "43/43 - 2s - loss: 0.1106 - accuracy: 0.9623\n",
            "[CV] ................................ optimizer=RMSprop, total=  40.4s\n",
            "[CV] optimizer=RMSprop ...............................................\n"
          ],
          "name": "stdout"
        },
        {
          "output_type": "stream",
          "text": [
            "[Parallel(n_jobs=1)]: Done   1 out of   1 | elapsed:   40.4s remaining:    0.0s\n"
          ],
          "name": "stderr"
        },
        {
          "output_type": "stream",
          "text": [
            "Epoch 1/2\n",
            "169/169 - 20s - loss: 0.1504 - accuracy: 0.9443\n",
            "Epoch 2/2\n",
            "169/169 - 18s - loss: 0.0927 - accuracy: 0.9697\n",
            "43/43 - 2s - loss: 0.1195 - accuracy: 0.9549\n",
            "[CV] ................................ optimizer=RMSprop, total=  41.1s\n",
            "[CV] optimizer=RMSprop ...............................................\n",
            "Epoch 1/2\n",
            "169/169 - 20s - loss: 0.1503 - accuracy: 0.9514\n",
            "Epoch 2/2\n",
            "169/169 - 17s - loss: 0.0992 - accuracy: 0.9671\n",
            "43/43 - 2s - loss: 0.0951 - accuracy: 0.9734\n",
            "[CV] ................................ optimizer=RMSprop, total=  40.1s\n",
            "[CV] optimizer=RMSprop ...............................................\n",
            "Epoch 1/2\n",
            "169/169 - 21s - loss: 0.1498 - accuracy: 0.9506\n",
            "Epoch 2/2\n",
            "169/169 - 17s - loss: 0.0978 - accuracy: 0.9654\n",
            "43/43 - 2s - loss: 0.0947 - accuracy: 0.9719\n",
            "[CV] ................................ optimizer=RMSprop, total=  40.5s\n",
            "[CV] optimizer=RMSprop ...............................................\n",
            "Epoch 1/2\n",
            "169/169 - 20s - loss: 0.1478 - accuracy: 0.9456\n",
            "Epoch 2/2\n",
            "169/169 - 17s - loss: 0.0969 - accuracy: 0.9680\n",
            "43/43 - 2s - loss: 0.0999 - accuracy: 0.9630\n",
            "[CV] ................................ optimizer=RMSprop, total=  40.2s\n",
            "[CV] optimizer=Adam ..................................................\n",
            "Epoch 1/2\n",
            "169/169 - 20s - loss: 0.1705 - accuracy: 0.9392\n",
            "Epoch 2/2\n",
            "169/169 - 17s - loss: 0.0988 - accuracy: 0.9628\n",
            "43/43 - 2s - loss: 0.1133 - accuracy: 0.9652\n",
            "[CV] ................................... optimizer=Adam, total=  40.0s\n",
            "[CV] optimizer=Adam ..................................................\n",
            "Epoch 1/2\n",
            "169/169 - 19s - loss: 0.1485 - accuracy: 0.9504\n",
            "Epoch 2/2\n",
            "169/169 - 17s - loss: 0.0913 - accuracy: 0.9706\n",
            "43/43 - 2s - loss: 0.1197 - accuracy: 0.9549\n",
            "[CV] ................................... optimizer=Adam, total=  38.9s\n",
            "[CV] optimizer=Adam ..................................................\n",
            "Epoch 1/2\n",
            "169/169 - 20s - loss: 0.1699 - accuracy: 0.9399\n",
            "Epoch 2/2\n",
            "169/169 - 17s - loss: 0.0987 - accuracy: 0.9645\n",
            "43/43 - 2s - loss: 0.0937 - accuracy: 0.9704\n",
            "[CV] ................................... optimizer=Adam, total=  39.7s\n",
            "[CV] optimizer=Adam ..................................................\n",
            "Epoch 1/2\n",
            "169/169 - 20s - loss: 0.1582 - accuracy: 0.9453\n",
            "Epoch 2/2\n",
            "169/169 - 17s - loss: 0.0927 - accuracy: 0.9695\n",
            "43/43 - 2s - loss: 0.0962 - accuracy: 0.9704\n",
            "[CV] ................................... optimizer=Adam, total=  39.6s\n",
            "[CV] optimizer=Adam ..................................................\n",
            "Epoch 1/2\n",
            "169/169 - 20s - loss: 0.1567 - accuracy: 0.9443\n",
            "Epoch 2/2\n",
            "169/169 - 17s - loss: 0.0975 - accuracy: 0.9693\n",
            "43/43 - 3s - loss: 0.1019 - accuracy: 0.9601\n",
            "[CV] ................................... optimizer=Adam, total=  40.0s\n",
            "[CV] optimizer=SGD ...................................................\n",
            "Epoch 1/2\n",
            "169/169 - 19s - loss: 0.2324 - accuracy: 0.9327\n",
            "Epoch 2/2\n",
            "169/169 - 17s - loss: 0.1966 - accuracy: 0.9379\n",
            "43/43 - 2s - loss: 0.2069 - accuracy: 0.9342\n",
            "[CV] .................................... optimizer=SGD, total=  39.0s\n",
            "[CV] optimizer=SGD ...................................................\n",
            "Epoch 1/2\n",
            "169/169 - 19s - loss: 0.2291 - accuracy: 0.9375\n",
            "Epoch 2/2\n",
            "169/169 - 17s - loss: 0.1989 - accuracy: 0.9375\n",
            "43/43 - 2s - loss: 0.1986 - accuracy: 0.9357\n",
            "[CV] .................................... optimizer=SGD, total=  38.9s\n",
            "[CV] optimizer=SGD ...................................................\n",
            "Epoch 1/2\n",
            "169/169 - 20s - loss: 0.2390 - accuracy: 0.9297\n",
            "Epoch 2/2\n",
            "169/169 - 17s - loss: 0.2055 - accuracy: 0.9349\n",
            "43/43 - 2s - loss: 0.1798 - accuracy: 0.9460\n",
            "[CV] .................................... optimizer=SGD, total=  39.8s\n",
            "[CV] optimizer=SGD ...................................................\n",
            "Epoch 1/2\n",
            "169/169 - 19s - loss: 0.2465 - accuracy: 0.9314\n",
            "Epoch 2/2\n",
            "169/169 - 17s - loss: 0.2052 - accuracy: 0.9369\n",
            "43/43 - 2s - loss: 0.1909 - accuracy: 0.9379\n",
            "[CV] .................................... optimizer=SGD, total=  38.9s\n",
            "[CV] optimizer=SGD ...................................................\n",
            "Epoch 1/2\n",
            "169/169 - 20s - loss: 0.2327 - accuracy: 0.9357\n",
            "Epoch 2/2\n",
            "169/169 - 17s - loss: 0.1969 - accuracy: 0.9384\n",
            "43/43 - 2s - loss: 0.2201 - accuracy: 0.9320\n",
            "[CV] .................................... optimizer=SGD, total=  40.0s\n"
          ],
          "name": "stdout"
        },
        {
          "output_type": "stream",
          "text": [
            "[Parallel(n_jobs=1)]: Done  15 out of  15 | elapsed: 10.0min finished\n"
          ],
          "name": "stderr"
        },
        {
          "output_type": "stream",
          "text": [
            "Epoch 1/2\n",
            "212/212 - 26s - loss: 0.1436 - accuracy: 0.9478\n",
            "Epoch 2/2\n",
            "212/212 - 23s - loss: 0.0919 - accuracy: 0.9706\n",
            "Best accuracy:  0.9650887608528137\n",
            "Best parameters:  {'optimizer': 'RMSprop'}\n"
          ],
          "name": "stdout"
        }
      ]
    },
    {
      "cell_type": "code",
      "metadata": {
        "colab": {
          "base_uri": "https://localhost:8080/"
        },
        "id": "omnCGUfdJWOG",
        "outputId": "d8e5808b-c2a5-4e43-99ee-265d2b2479f9"
      },
      "source": [
        "param_grid = {\n",
        "    'nb_filters': [128,256],\n",
        "    'kernel_size':[3,5]\n",
        "\n",
        "}                                                             ####perform grid search to find the hyperparameters\n",
        "\n",
        "model = KerasClassifier(build_fn = model_cnn_lstm_create, verbose = 2)\n",
        "grid_search = GridSearchCV(estimator = model, param_grid = param_grid, verbose = 2)\n",
        "grid_results = grid_search.fit(X_train, Y_train, epochs = 2)\n",
        "print('Best accuracy: ', grid_results.best_score_)\n",
        "print('Best parameters: ', grid_results.best_params_)"
      ],
      "execution_count": null,
      "outputs": [
        {
          "output_type": "stream",
          "text": [
            "Fitting 5 folds for each of 4 candidates, totalling 20 fits\n",
            "[CV] kernel_size=3, nb_filters=128 ...................................\n"
          ],
          "name": "stdout"
        },
        {
          "output_type": "stream",
          "text": [
            "[Parallel(n_jobs=1)]: Using backend SequentialBackend with 1 concurrent workers.\n"
          ],
          "name": "stderr"
        },
        {
          "output_type": "stream",
          "text": [
            "Epoch 1/2\n",
            "169/169 - 13s - loss: 0.1733 - accuracy: 0.9419\n",
            "Epoch 2/2\n",
            "169/169 - 10s - loss: 0.1038 - accuracy: 0.9628\n",
            "43/43 - 1s - loss: 0.1544 - accuracy: 0.9541\n",
            "[CV] .................... kernel_size=3, nb_filters=128, total=  24.5s\n",
            "[CV] kernel_size=3, nb_filters=128 ...................................\n"
          ],
          "name": "stdout"
        },
        {
          "output_type": "stream",
          "text": [
            "[Parallel(n_jobs=1)]: Done   1 out of   1 | elapsed:   24.5s remaining:    0.0s\n"
          ],
          "name": "stderr"
        },
        {
          "output_type": "stream",
          "text": [
            "Epoch 1/2\n",
            "169/169 - 12s - loss: 0.1688 - accuracy: 0.9373\n",
            "Epoch 2/2\n",
            "169/169 - 10s - loss: 0.1020 - accuracy: 0.9663\n",
            "43/43 - 1s - loss: 0.1228 - accuracy: 0.9593\n",
            "[CV] .................... kernel_size=3, nb_filters=128, total=  24.0s\n",
            "[CV] kernel_size=3, nb_filters=128 ...................................\n",
            "Epoch 1/2\n",
            "169/169 - 12s - loss: 0.1723 - accuracy: 0.9368\n",
            "Epoch 2/2\n",
            "169/169 - 10s - loss: 0.1089 - accuracy: 0.9604\n",
            "43/43 - 1s - loss: 0.1029 - accuracy: 0.9660\n",
            "[CV] .................... kernel_size=3, nb_filters=128, total=  23.6s\n",
            "[CV] kernel_size=3, nb_filters=128 ...................................\n",
            "Epoch 1/2\n",
            "169/169 - 12s - loss: 0.1685 - accuracy: 0.9405\n",
            "Epoch 2/2\n",
            "169/169 - 10s - loss: 0.1039 - accuracy: 0.9636\n",
            "43/43 - 1s - loss: 0.1028 - accuracy: 0.9660\n",
            "[CV] .................... kernel_size=3, nb_filters=128, total=  24.6s\n",
            "[CV] kernel_size=3, nb_filters=128 ...................................\n",
            "Epoch 1/2\n",
            "169/169 - 12s - loss: 0.1661 - accuracy: 0.9423\n",
            "Epoch 2/2\n",
            "169/169 - 10s - loss: 0.1102 - accuracy: 0.9634\n",
            "43/43 - 1s - loss: 0.1085 - accuracy: 0.9593\n",
            "[CV] .................... kernel_size=3, nb_filters=128, total=  23.9s\n",
            "[CV] kernel_size=3, nb_filters=256 ...................................\n",
            "Epoch 1/2\n",
            "169/169 - 19s - loss: 0.1657 - accuracy: 0.9412\n",
            "Epoch 2/2\n",
            "169/169 - 17s - loss: 0.1009 - accuracy: 0.9638\n",
            "43/43 - 2s - loss: 0.1214 - accuracy: 0.9645\n",
            "[CV] .................... kernel_size=3, nb_filters=256, total=  38.4s\n",
            "[CV] kernel_size=3, nb_filters=256 ...................................\n",
            "Epoch 1/2\n",
            "169/169 - 19s - loss: 0.1533 - accuracy: 0.9473\n",
            "Epoch 2/2\n",
            "169/169 - 16s - loss: 0.0962 - accuracy: 0.9662\n",
            "43/43 - 2s - loss: 0.1198 - accuracy: 0.9549\n",
            "[CV] .................... kernel_size=3, nb_filters=256, total=  38.1s\n",
            "[CV] kernel_size=3, nb_filters=256 ...................................\n",
            "Epoch 1/2\n",
            "169/169 - 20s - loss: 0.1655 - accuracy: 0.9425\n",
            "Epoch 2/2\n",
            "169/169 - 16s - loss: 0.1096 - accuracy: 0.9625\n",
            "43/43 - 2s - loss: 0.1028 - accuracy: 0.9652\n",
            "[CV] .................... kernel_size=3, nb_filters=256, total=  38.7s\n",
            "[CV] kernel_size=3, nb_filters=256 ...................................\n",
            "Epoch 1/2\n",
            "169/169 - 19s - loss: 0.1672 - accuracy: 0.9405\n",
            "Epoch 2/2\n",
            "169/169 - 16s - loss: 0.1040 - accuracy: 0.9634\n",
            "43/43 - 2s - loss: 0.1004 - accuracy: 0.9704\n",
            "[CV] .................... kernel_size=3, nb_filters=256, total=  38.1s\n",
            "[CV] kernel_size=3, nb_filters=256 ...................................\n",
            "Epoch 1/2\n",
            "169/169 - 20s - loss: 0.1642 - accuracy: 0.9451\n",
            "Epoch 2/2\n",
            "169/169 - 16s - loss: 0.1050 - accuracy: 0.9625\n",
            "43/43 - 2s - loss: 0.1137 - accuracy: 0.9593\n",
            "[CV] .................... kernel_size=3, nb_filters=256, total=  38.7s\n",
            "[CV] kernel_size=5, nb_filters=128 ...................................\n",
            "Epoch 1/2\n",
            "169/169 - 13s - loss: 0.1656 - accuracy: 0.9397\n",
            "Epoch 2/2\n",
            "169/169 - 10s - loss: 0.1014 - accuracy: 0.9652\n",
            "43/43 - 1s - loss: 0.1193 - accuracy: 0.9630\n",
            "[CV] .................... kernel_size=5, nb_filters=128, total=  25.1s\n",
            "[CV] kernel_size=5, nb_filters=128 ...................................\n",
            "Epoch 1/2\n",
            "169/169 - 13s - loss: 0.1638 - accuracy: 0.9423\n",
            "Epoch 2/2\n",
            "169/169 - 10s - loss: 0.0975 - accuracy: 0.9676\n",
            "43/43 - 1s - loss: 0.1338 - accuracy: 0.9490\n",
            "[CV] .................... kernel_size=5, nb_filters=128, total=  24.7s\n",
            "[CV] kernel_size=5, nb_filters=128 ...................................\n",
            "Epoch 1/2\n",
            "169/169 - 13s - loss: 0.1690 - accuracy: 0.9381\n",
            "Epoch 2/2\n",
            "169/169 - 10s - loss: 0.1036 - accuracy: 0.9647\n",
            "43/43 - 1s - loss: 0.0972 - accuracy: 0.9689\n",
            "[CV] .................... kernel_size=5, nb_filters=128, total=  25.6s\n",
            "[CV] kernel_size=5, nb_filters=128 ...................................\n",
            "Epoch 1/2\n",
            "169/169 - 13s - loss: 0.1659 - accuracy: 0.9442\n",
            "Epoch 2/2\n",
            "169/169 - 10s - loss: 0.1026 - accuracy: 0.9628\n",
            "43/43 - 1s - loss: 0.1024 - accuracy: 0.9675\n",
            "[CV] .................... kernel_size=5, nb_filters=128, total=  24.9s\n",
            "[CV] kernel_size=5, nb_filters=128 ...................................\n",
            "Epoch 1/2\n",
            "169/169 - 13s - loss: 0.1676 - accuracy: 0.9401\n",
            "Epoch 2/2\n",
            "169/169 - 10s - loss: 0.1051 - accuracy: 0.9628\n",
            "43/43 - 1s - loss: 0.1037 - accuracy: 0.9556\n",
            "[CV] .................... kernel_size=5, nb_filters=128, total=  25.5s\n",
            "[CV] kernel_size=5, nb_filters=256 ...................................\n",
            "Epoch 1/2\n",
            "169/169 - 20s - loss: 0.1552 - accuracy: 0.9458\n",
            "Epoch 2/2\n",
            "169/169 - 17s - loss: 0.0928 - accuracy: 0.9691\n",
            "43/43 - 2s - loss: 0.1100 - accuracy: 0.9689\n",
            "[CV] .................... kernel_size=5, nb_filters=256, total=  39.5s\n",
            "[CV] kernel_size=5, nb_filters=256 ...................................\n",
            "Epoch 1/2\n",
            "169/169 - 20s - loss: 0.1583 - accuracy: 0.9436\n",
            "Epoch 2/2\n",
            "169/169 - 17s - loss: 0.0901 - accuracy: 0.9700\n",
            "43/43 - 2s - loss: 0.1199 - accuracy: 0.9571\n",
            "[CV] .................... kernel_size=5, nb_filters=256, total=  40.4s\n",
            "[CV] kernel_size=5, nb_filters=256 ...................................\n",
            "Epoch 1/2\n",
            "169/169 - 20s - loss: 0.1595 - accuracy: 0.9466\n",
            "Epoch 2/2\n",
            "169/169 - 17s - loss: 0.1007 - accuracy: 0.9649\n",
            "43/43 - 2s - loss: 0.1256 - accuracy: 0.9534\n",
            "[CV] .................... kernel_size=5, nb_filters=256, total=  39.7s\n",
            "[CV] kernel_size=5, nb_filters=256 ...................................\n",
            "Epoch 1/2\n",
            "169/169 - 20s - loss: 0.1558 - accuracy: 0.9495\n",
            "Epoch 2/2\n",
            "169/169 - 17s - loss: 0.0979 - accuracy: 0.9663\n",
            "43/43 - 2s - loss: 0.1047 - accuracy: 0.9682\n",
            "[CV] .................... kernel_size=5, nb_filters=256, total=  40.0s\n",
            "[CV] kernel_size=5, nb_filters=256 ...................................\n",
            "Epoch 1/2\n",
            "169/169 - 20s - loss: 0.1583 - accuracy: 0.9458\n",
            "Epoch 2/2\n",
            "169/169 - 17s - loss: 0.0981 - accuracy: 0.9673\n",
            "43/43 - 2s - loss: 0.1007 - accuracy: 0.9608\n",
            "[CV] .................... kernel_size=5, nb_filters=256, total=  39.5s\n"
          ],
          "name": "stdout"
        },
        {
          "output_type": "stream",
          "text": [
            "[Parallel(n_jobs=1)]: Done  20 out of  20 | elapsed: 10.6min finished\n"
          ],
          "name": "stderr"
        },
        {
          "output_type": "stream",
          "text": [
            "Epoch 1/2\n",
            "212/212 - 24s - loss: 0.1559 - accuracy: 0.9448\n",
            "Epoch 2/2\n",
            "212/212 - 21s - loss: 0.0983 - accuracy: 0.9661\n",
            "Best accuracy:  0.9628698229789734\n",
            "Best parameters:  {'kernel_size': 3, 'nb_filters': 256}\n"
          ],
          "name": "stdout"
        }
      ]
    },
    {
      "cell_type": "code",
      "metadata": {
        "colab": {
          "base_uri": "https://localhost:8080/"
        },
        "id": "CBFA8IqAJWOH",
        "outputId": "61b85155-3b75-4820-9b06-b6d1fbca10dd"
      },
      "source": [
        "param_grid = {\n",
        "    'dropout_rate': [0.1,0.2,0.3,0.4,0.5]\n",
        "}             \n",
        "\n",
        "model = KerasClassifier(build_fn = model_cnn_lstm_create, verbose = 2)\n",
        "grid_search = GridSearchCV(estimator = model, param_grid = param_grid, verbose = 2)\n",
        "grid_results = grid_search.fit(X_train, Y_train, epochs = 2)\n",
        "print('Best accuracy: ', grid_results.best_score_)\n",
        "print('Best parameters: ', grid_results.best_params_)"
      ],
      "execution_count": null,
      "outputs": [
        {
          "output_type": "stream",
          "text": [
            "Fitting 5 folds for each of 5 candidates, totalling 25 fits\n",
            "[CV] dropout_rate=0.1 ................................................\n"
          ],
          "name": "stdout"
        },
        {
          "output_type": "stream",
          "text": [
            "[Parallel(n_jobs=1)]: Using backend SequentialBackend with 1 concurrent workers.\n"
          ],
          "name": "stderr"
        },
        {
          "output_type": "stream",
          "text": [
            "Epoch 1/2\n",
            "169/169 - 20s - loss: 0.1632 - accuracy: 0.9429\n",
            "Epoch 2/2\n",
            "169/169 - 17s - loss: 0.0959 - accuracy: 0.9665\n",
            "43/43 - 2s - loss: 0.1191 - accuracy: 0.9660\n",
            "[CV] ................................. dropout_rate=0.1, total=  40.4s\n",
            "[CV] dropout_rate=0.1 ................................................\n"
          ],
          "name": "stdout"
        },
        {
          "output_type": "stream",
          "text": [
            "[Parallel(n_jobs=1)]: Done   1 out of   1 | elapsed:   40.4s remaining:    0.0s\n"
          ],
          "name": "stderr"
        },
        {
          "output_type": "stream",
          "text": [
            "Epoch 1/2\n",
            "169/169 - 20s - loss: 0.1606 - accuracy: 0.9414\n",
            "Epoch 2/2\n",
            "169/169 - 17s - loss: 0.0913 - accuracy: 0.9702\n",
            "43/43 - 2s - loss: 0.1159 - accuracy: 0.9534\n",
            "[CV] ................................. dropout_rate=0.1, total=  39.4s\n",
            "[CV] dropout_rate=0.1 ................................................\n",
            "Epoch 1/2\n",
            "169/169 - 20s - loss: 0.1617 - accuracy: 0.9458\n",
            "Epoch 2/2\n",
            "169/169 - 17s - loss: 0.0949 - accuracy: 0.9662\n",
            "43/43 - 2s - loss: 0.0956 - accuracy: 0.9719\n",
            "[CV] ................................. dropout_rate=0.1, total=  40.2s\n",
            "[CV] dropout_rate=0.1 ................................................\n",
            "Epoch 1/2\n",
            "169/169 - 20s - loss: 0.1621 - accuracy: 0.9449\n",
            "Epoch 2/2\n",
            "169/169 - 17s - loss: 0.0991 - accuracy: 0.9665\n",
            "43/43 - 2s - loss: 0.0944 - accuracy: 0.9712\n",
            "[CV] ................................. dropout_rate=0.1, total=  39.6s\n",
            "[CV] dropout_rate=0.1 ................................................\n",
            "Epoch 1/2\n",
            "169/169 - 21s - loss: 0.1674 - accuracy: 0.9408\n",
            "Epoch 2/2\n",
            "169/169 - 17s - loss: 0.0984 - accuracy: 0.9663\n",
            "43/43 - 2s - loss: 0.1079 - accuracy: 0.9601\n",
            "[CV] ................................. dropout_rate=0.1, total=  40.6s\n",
            "[CV] dropout_rate=0.2 ................................................\n",
            "Epoch 1/2\n",
            "169/169 - 20s - loss: 0.1552 - accuracy: 0.9456\n",
            "Epoch 2/2\n",
            "169/169 - 17s - loss: 0.0928 - accuracy: 0.9693\n",
            "43/43 - 2s - loss: 0.1415 - accuracy: 0.9608\n",
            "[CV] ................................. dropout_rate=0.2, total=  40.0s\n",
            "[CV] dropout_rate=0.2 ................................................\n",
            "Epoch 1/2\n",
            "169/169 - 20s - loss: 0.1593 - accuracy: 0.9442\n",
            "Epoch 2/2\n",
            "169/169 - 17s - loss: 0.0894 - accuracy: 0.9706\n",
            "43/43 - 2s - loss: 0.1370 - accuracy: 0.9556\n",
            "[CV] ................................. dropout_rate=0.2, total=  40.2s\n",
            "[CV] dropout_rate=0.2 ................................................\n",
            "Epoch 1/2\n",
            "169/169 - 20s - loss: 0.1670 - accuracy: 0.9390\n",
            "Epoch 2/2\n",
            "169/169 - 17s - loss: 0.1021 - accuracy: 0.9656\n",
            "43/43 - 2s - loss: 0.0946 - accuracy: 0.9726\n",
            "[CV] ................................. dropout_rate=0.2, total=  39.3s\n",
            "[CV] dropout_rate=0.2 ................................................\n",
            "Epoch 1/2\n",
            "169/169 - 20s - loss: 0.1653 - accuracy: 0.9386\n",
            "Epoch 2/2\n",
            "169/169 - 17s - loss: 0.0952 - accuracy: 0.9680\n",
            "43/43 - 2s - loss: 0.0963 - accuracy: 0.9712\n",
            "[CV] ................................. dropout_rate=0.2, total=  39.1s\n",
            "[CV] dropout_rate=0.2 ................................................\n",
            "Epoch 1/2\n",
            "169/169 - 20s - loss: 0.1627 - accuracy: 0.9421\n",
            "Epoch 2/2\n",
            "169/169 - 17s - loss: 0.0944 - accuracy: 0.9693\n",
            "43/43 - 2s - loss: 0.1092 - accuracy: 0.9593\n",
            "[CV] ................................. dropout_rate=0.2, total=  39.7s\n",
            "[CV] dropout_rate=0.3 ................................................\n",
            "Epoch 1/2\n",
            "169/169 - 20s - loss: 0.1608 - accuracy: 0.9471\n",
            "Epoch 2/2\n",
            "169/169 - 17s - loss: 0.0966 - accuracy: 0.9669\n",
            "43/43 - 2s - loss: 0.1233 - accuracy: 0.9704\n",
            "[CV] ................................. dropout_rate=0.3, total=  39.4s\n",
            "[CV] dropout_rate=0.3 ................................................\n",
            "Epoch 1/2\n",
            "169/169 - 20s - loss: 0.1541 - accuracy: 0.9479\n",
            "Epoch 2/2\n",
            "169/169 - 17s - loss: 0.0927 - accuracy: 0.9702\n",
            "43/43 - 2s - loss: 0.1267 - accuracy: 0.9534\n",
            "[CV] ................................. dropout_rate=0.3, total=  39.7s\n",
            "[CV] dropout_rate=0.3 ................................................\n",
            "Epoch 1/2\n",
            "169/169 - 20s - loss: 0.1584 - accuracy: 0.9471\n",
            "Epoch 2/2\n",
            "169/169 - 17s - loss: 0.0957 - accuracy: 0.9651\n",
            "43/43 - 2s - loss: 0.1002 - accuracy: 0.9712\n",
            "[CV] ................................. dropout_rate=0.3, total=  39.8s\n",
            "[CV] dropout_rate=0.3 ................................................\n",
            "Epoch 1/2\n",
            "169/169 - 20s - loss: 0.1641 - accuracy: 0.9453\n",
            "Epoch 2/2\n",
            "169/169 - 17s - loss: 0.0949 - accuracy: 0.9647\n",
            "43/43 - 2s - loss: 0.0965 - accuracy: 0.9697\n",
            "[CV] ................................. dropout_rate=0.3, total=  39.7s\n",
            "[CV] dropout_rate=0.3 ................................................\n",
            "Epoch 1/2\n",
            "169/169 - 20s - loss: 0.1546 - accuracy: 0.9466\n",
            "Epoch 2/2\n",
            "169/169 - 17s - loss: 0.0993 - accuracy: 0.9663\n",
            "43/43 - 2s - loss: 0.0999 - accuracy: 0.9586\n",
            "[CV] ................................. dropout_rate=0.3, total=  39.2s\n",
            "[CV] dropout_rate=0.4 ................................................\n",
            "Epoch 1/2\n",
            "169/169 - 20s - loss: 0.1618 - accuracy: 0.9419\n",
            "Epoch 2/2\n",
            "169/169 - 17s - loss: 0.0997 - accuracy: 0.9654\n",
            "43/43 - 2s - loss: 0.1067 - accuracy: 0.9675\n",
            "[CV] ................................. dropout_rate=0.4, total=  40.2s\n",
            "[CV] dropout_rate=0.4 ................................................\n",
            "Epoch 1/2\n",
            "169/169 - 20s - loss: 0.1569 - accuracy: 0.9442\n",
            "Epoch 2/2\n",
            "169/169 - 17s - loss: 0.0924 - accuracy: 0.9689\n",
            "43/43 - 2s - loss: 0.1213 - accuracy: 0.9549\n",
            "[CV] ................................. dropout_rate=0.4, total=  39.6s\n",
            "[CV] dropout_rate=0.4 ................................................\n",
            "Epoch 1/2\n",
            "169/169 - 20s - loss: 0.1568 - accuracy: 0.9462\n",
            "Epoch 2/2\n",
            "169/169 - 17s - loss: 0.0963 - accuracy: 0.9662\n",
            "43/43 - 2s - loss: 0.0893 - accuracy: 0.9719\n",
            "[CV] ................................. dropout_rate=0.4, total=  39.4s\n",
            "[CV] dropout_rate=0.4 ................................................\n",
            "Epoch 1/2\n",
            "169/169 - 20s - loss: 0.1666 - accuracy: 0.9419\n",
            "Epoch 2/2\n",
            "169/169 - 17s - loss: 0.0984 - accuracy: 0.9675\n",
            "43/43 - 2s - loss: 0.0923 - accuracy: 0.9697\n",
            "[CV] ................................. dropout_rate=0.4, total=  40.2s\n",
            "[CV] dropout_rate=0.4 ................................................\n",
            "Epoch 1/2\n",
            "169/169 - 20s - loss: 0.1575 - accuracy: 0.9477\n",
            "Epoch 2/2\n",
            "169/169 - 17s - loss: 0.1001 - accuracy: 0.9691\n",
            "43/43 - 2s - loss: 0.1023 - accuracy: 0.9645\n",
            "[CV] ................................. dropout_rate=0.4, total=  39.3s\n",
            "[CV] dropout_rate=0.5 ................................................\n",
            "Epoch 1/2\n",
            "169/169 - 20s - loss: 0.1541 - accuracy: 0.9471\n",
            "Epoch 2/2\n",
            "169/169 - 17s - loss: 0.0963 - accuracy: 0.9669\n",
            "43/43 - 2s - loss: 0.1351 - accuracy: 0.9660\n",
            "[CV] ................................. dropout_rate=0.5, total=  39.9s\n",
            "[CV] dropout_rate=0.5 ................................................\n",
            "Epoch 1/2\n",
            "169/169 - 20s - loss: 0.1564 - accuracy: 0.9451\n",
            "Epoch 2/2\n",
            "169/169 - 17s - loss: 0.0884 - accuracy: 0.9699\n",
            "43/43 - 2s - loss: 0.1236 - accuracy: 0.9527\n",
            "[CV] ................................. dropout_rate=0.5, total=  39.8s\n",
            "[CV] dropout_rate=0.5 ................................................\n",
            "Epoch 1/2\n",
            "169/169 - 20s - loss: 0.1716 - accuracy: 0.9382\n",
            "Epoch 2/2\n",
            "169/169 - 17s - loss: 0.1003 - accuracy: 0.9663\n",
            "43/43 - 2s - loss: 0.0941 - accuracy: 0.9712\n",
            "[CV] ................................. dropout_rate=0.5, total=  39.8s\n",
            "[CV] dropout_rate=0.5 ................................................\n",
            "Epoch 1/2\n",
            "169/169 - 20s - loss: 0.1668 - accuracy: 0.9397\n",
            "Epoch 2/2\n",
            "169/169 - 17s - loss: 0.0973 - accuracy: 0.9662\n",
            "43/43 - 2s - loss: 0.0958 - accuracy: 0.9697\n",
            "[CV] ................................. dropout_rate=0.5, total=  39.7s\n",
            "[CV] dropout_rate=0.5 ................................................\n",
            "Epoch 1/2\n",
            "169/169 - 20s - loss: 0.1544 - accuracy: 0.9484\n",
            "Epoch 2/2\n",
            "169/169 - 17s - loss: 0.0966 - accuracy: 0.9686\n",
            "43/43 - 2s - loss: 0.0996 - accuracy: 0.9630\n",
            "[CV] ................................. dropout_rate=0.5, total=  39.8s\n"
          ],
          "name": "stdout"
        },
        {
          "output_type": "stream",
          "text": [
            "[Parallel(n_jobs=1)]: Done  25 out of  25 | elapsed: 16.6min finished\n"
          ],
          "name": "stderr"
        },
        {
          "output_type": "stream",
          "text": [
            "Epoch 1/2\n",
            "212/212 - 26s - loss: 0.1532 - accuracy: 0.9464\n",
            "Epoch 2/2\n",
            "212/212 - 22s - loss: 0.0962 - accuracy: 0.9679\n",
            "Best accuracy:  0.965680468082428\n",
            "Best parameters:  {'dropout_rate': 0.4}\n"
          ],
          "name": "stdout"
        }
      ]
    },
    {
      "cell_type": "code",
      "metadata": {
        "colab": {
          "base_uri": "https://localhost:8080/"
        },
        "id": "IMwsgoGtJWOH",
        "outputId": "0699cc50-3438-45c7-f935-ff63a2826cbd"
      },
      "source": [
        "param_grid = {\n",
        "    'batch_size': [32,64,128,256]\n",
        "}                                                             ####perform grid search to find the hyperparameters\n",
        "model = KerasClassifier(build_fn = model_cnn_lstm_create, verbose = 2)\n",
        "grid_search = GridSearchCV(estimator = model, param_grid = param_grid, verbose = 2)\n",
        "grid_results = grid_search.fit(X_train, Y_train, epochs = 1)\n",
        "print('Best accuracy: ', grid_results.best_score_)\n",
        "print('Best parameters: ', grid_results.best_params_)"
      ],
      "execution_count": null,
      "outputs": [
        {
          "output_type": "stream",
          "text": [
            "Fitting 5 folds for each of 4 candidates, totalling 20 fits\n",
            "[CV] batch_size=32 ...................................................\n"
          ],
          "name": "stdout"
        },
        {
          "output_type": "stream",
          "text": [
            "[Parallel(n_jobs=1)]: Using backend SequentialBackend with 1 concurrent workers.\n"
          ],
          "name": "stderr"
        },
        {
          "output_type": "stream",
          "text": [
            "169/169 - 20s - loss: 0.1622 - accuracy: 0.9456\n",
            "43/43 - 2s - loss: 0.1411 - accuracy: 0.9578\n",
            "[CV] .................................... batch_size=32, total=  22.5s\n",
            "[CV] batch_size=32 ...................................................\n"
          ],
          "name": "stdout"
        },
        {
          "output_type": "stream",
          "text": [
            "[Parallel(n_jobs=1)]: Done   1 out of   1 | elapsed:   22.5s remaining:    0.0s\n"
          ],
          "name": "stderr"
        },
        {
          "output_type": "stream",
          "text": [
            "169/169 - 20s - loss: 0.1690 - accuracy: 0.9395\n",
            "43/43 - 2s - loss: 0.1471 - accuracy: 0.9527\n",
            "[CV] .................................... batch_size=32, total=  23.0s\n",
            "[CV] batch_size=32 ...................................................\n",
            "169/169 - 20s - loss: 0.1673 - accuracy: 0.9449\n",
            "43/43 - 2s - loss: 0.1120 - accuracy: 0.9564\n",
            "[CV] .................................... batch_size=32, total=  22.3s\n",
            "[CV] batch_size=32 ...................................................\n",
            "169/169 - 20s - loss: 0.1608 - accuracy: 0.9449\n",
            "43/43 - 2s - loss: 0.1199 - accuracy: 0.9675\n",
            "[CV] .................................... batch_size=32, total=  22.9s\n",
            "[CV] batch_size=32 ...................................................\n",
            "169/169 - 20s - loss: 0.1548 - accuracy: 0.9486\n",
            "43/43 - 2s - loss: 0.1335 - accuracy: 0.9549\n",
            "[CV] .................................... batch_size=32, total=  22.4s\n",
            "[CV] batch_size=64 ...................................................\n",
            "85/85 - 18s - loss: 0.1851 - accuracy: 0.9325\n",
            "22/22 - 2s - loss: 0.1405 - accuracy: 0.9527\n",
            "[CV] .................................... batch_size=64, total=  20.0s\n",
            "[CV] batch_size=64 ...................................................\n",
            "85/85 - 17s - loss: 0.1826 - accuracy: 0.9331\n",
            "22/22 - 2s - loss: 0.1630 - accuracy: 0.9475\n",
            "[CV] .................................... batch_size=64, total=  19.4s\n",
            "[CV] batch_size=64 ...................................................\n",
            "85/85 - 18s - loss: 0.1815 - accuracy: 0.9386\n",
            "22/22 - 2s - loss: 0.1151 - accuracy: 0.9586\n",
            "[CV] .................................... batch_size=64, total=  20.3s\n",
            "[CV] batch_size=64 ...................................................\n",
            "85/85 - 18s - loss: 0.1867 - accuracy: 0.9388\n",
            "22/22 - 2s - loss: 0.1126 - accuracy: 0.9645\n",
            "[CV] .................................... batch_size=64, total=  20.5s\n",
            "[CV] batch_size=64 ...................................................\n",
            "85/85 - 18s - loss: 0.1700 - accuracy: 0.9438\n",
            "22/22 - 2s - loss: 0.1327 - accuracy: 0.9527\n",
            "[CV] .................................... batch_size=64, total=  20.1s\n",
            "[CV] batch_size=128 ..................................................\n",
            "43/43 - 15s - loss: 0.2168 - accuracy: 0.9185\n",
            "11/11 - 2s - loss: 0.1806 - accuracy: 0.9334\n",
            "[CV] ................................... batch_size=128, total=  17.3s\n",
            "[CV] batch_size=128 ..................................................\n",
            "43/43 - 14s - loss: 0.2137 - accuracy: 0.9216\n",
            "11/11 - 2s - loss: 0.1699 - accuracy: 0.9357\n",
            "[CV] ................................... batch_size=128, total=  17.0s\n",
            "[CV] batch_size=128 ..................................................\n",
            "43/43 - 14s - loss: 0.2218 - accuracy: 0.9175\n",
            "11/11 - 2s - loss: 0.1556 - accuracy: 0.9460\n",
            "[CV] ................................... batch_size=128, total=  16.5s\n",
            "[CV] batch_size=128 ..................................................\n",
            "43/43 - 14s - loss: 0.2152 - accuracy: 0.9297\n",
            "11/11 - 2s - loss: 0.1540 - accuracy: 0.9379\n",
            "[CV] ................................... batch_size=128, total=  16.9s\n",
            "[CV] batch_size=128 ..................................................\n",
            "43/43 - 14s - loss: 0.2210 - accuracy: 0.9162\n",
            "11/11 - 2s - loss: 0.1930 - accuracy: 0.9320\n",
            "[CV] ................................... batch_size=128, total=  16.5s\n",
            "[CV] batch_size=256 ..................................................\n",
            "22/22 - 13s - loss: 0.2346 - accuracy: 0.9268\n",
            "6/6 - 2s - loss: 0.2042 - accuracy: 0.9342\n",
            "[CV] ................................... batch_size=256, total=  15.0s\n",
            "[CV] batch_size=256 ..................................................\n",
            "22/22 - 13s - loss: 0.2279 - accuracy: 0.9369\n",
            "6/6 - 2s - loss: 0.1932 - accuracy: 0.9357\n",
            "[CV] ................................... batch_size=256, total=  15.7s\n",
            "[CV] batch_size=256 ..................................................\n",
            "22/22 - 13s - loss: 0.2318 - accuracy: 0.9347\n",
            "6/6 - 2s - loss: 0.1738 - accuracy: 0.9460\n",
            "[CV] ................................... batch_size=256, total=  15.0s\n",
            "[CV] batch_size=256 ..................................................\n",
            "22/22 - 13s - loss: 0.2440 - accuracy: 0.9000\n",
            "6/6 - 2s - loss: 0.1829 - accuracy: 0.9379\n",
            "[CV] ................................... batch_size=256, total=  15.8s\n",
            "[CV] batch_size=256 ..................................................\n",
            "22/22 - 13s - loss: 0.2531 - accuracy: 0.8955\n",
            "6/6 - 2s - loss: 0.2153 - accuracy: 0.9320\n",
            "[CV] ................................... batch_size=256, total=  15.1s\n"
          ],
          "name": "stdout"
        },
        {
          "output_type": "stream",
          "text": [
            "[Parallel(n_jobs=1)]: Done  20 out of  20 | elapsed:  6.2min finished\n"
          ],
          "name": "stderr"
        },
        {
          "output_type": "stream",
          "text": [
            "212/212 - 26s - loss: 0.1506 - accuracy: 0.9501\n",
            "Best accuracy:  0.9578402400016784\n",
            "Best parameters:  {'batch_size': 32}\n"
          ],
          "name": "stdout"
        }
      ]
    },
    {
      "cell_type": "code",
      "metadata": {
        "id": "2EelJXSKJWOI"
      },
      "source": [
        "model = Sequential()\n",
        "e = Embedding(vocab_len, 50, input_length= 100, weights = [embedding_matrix], trainable= False)\n",
        "model.add(e)\n",
        "model.add(Conv1D(filters=128,kernel_size=5,activation='relu',strides= 1, kernel_initializer='he_uniform'))\n",
        "model.add(MaxPooling1D(pool_size=4))\n",
        "model.add(Bidirectional(LSTM(10)))\n",
        "model.add(Dropout(0.5))\n",
        "model.add(Dense(units = 1, activation = 'sigmoid', kernel_initializer= 'glorot_uniform'))\n",
        "model.compile(optimizer='Adam', loss = 'binary_crossentropy', metrics = ['accuracy'])"
      ],
      "execution_count": null,
      "outputs": []
    },
    {
      "cell_type": "code",
      "metadata": {
        "colab": {
          "base_uri": "https://localhost:8080/"
        },
        "id": "N-NAU-wtJWOI",
        "outputId": "83e49ac0-aa42-4f46-9d7d-f2359e5be99c"
      },
      "source": [
        "cnn_lstm_pretrained_history=model.fit(X_train, Y_train, epochs = 1, batch_size = 128, verbose = 1, validation_split = 0.1)"
      ],
      "execution_count": null,
      "outputs": [
        {
          "output_type": "stream",
          "text": [
            "48/48 [==============================] - 7s 87ms/step - loss: 0.4418 - accuracy: 0.8374 - val_loss: 0.2156 - val_accuracy: 0.9393\n"
          ],
          "name": "stdout"
        }
      ]
    },
    {
      "cell_type": "code",
      "metadata": {
        "colab": {
          "base_uri": "https://localhost:8080/"
        },
        "id": "iIwcTkEzJWOJ",
        "outputId": "22700532-e087-4463-c0f9-de36680ebecd"
      },
      "source": [
        "score = model.evaluate(X_test,Y_test,verbose = 1)\n",
        "score[1]"
      ],
      "execution_count": null,
      "outputs": [
        {
          "output_type": "stream",
          "text": [
            "53/53 [==============================] - 0s 9ms/step - loss: 0.2058 - accuracy: 0.9408\n"
          ],
          "name": "stdout"
        },
        {
          "output_type": "execute_result",
          "data": {
            "text/plain": [
              "0.9408283829689026"
            ]
          },
          "metadata": {
            "tags": []
          },
          "execution_count": 52
        }
      ]
    },
    {
      "cell_type": "code",
      "metadata": {
        "colab": {
          "base_uri": "https://localhost:8080/",
          "height": 295
        },
        "id": "P_R7TWQbJWOJ",
        "outputId": "4c510a74-db14-4bff-adae-4b8c28d65db7"
      },
      "source": [
        "import matplotlib.pyplot as plt                             ###plot loss on train and val data\n",
        "plt.plot(cnn_lstm_pretrained_history.history['loss'])\n",
        "plt.plot(cnn_lstm_pretrained_history.history['val_loss'])\n",
        "plt.title('Model Loss Plot')\n",
        "plt.xlabel('Epochs')\n",
        "plt.ylabel('Loss')\n",
        "plt.legend(['Train', 'Test'],loc = 'upper right')\n",
        "plt.show()"
      ],
      "execution_count": null,
      "outputs": [
        {
          "output_type": "display_data",
          "data": {
            "image/png": "[encoded data removed]",
            "text/plain": [
              "<Figure size 432x288 with 1 Axes>"
            ]
          },
          "metadata": {
            "tags": [],
            "needs_background": "light"
          }
        }
      ]
    },
    {
      "cell_type": "code",
      "metadata": {
        "id": "0vxxhpneJWOK"
      },
      "source": [
        "model.save('cnn_lstm_pretrained_model.hdf5')   ###save the model"
      ],
      "execution_count": null,
      "outputs": []
    },
    {
      "cell_type": "code",
      "metadata": {
        "id": "HyVD78pvJWOK"
      },
      "source": [
        "model.load_weights('cnn_lstm_pretrained_model.hdf5')"
      ],
      "execution_count": null,
      "outputs": []
    },
    {
      "cell_type": "code",
      "metadata": {
        "id": "eBJ8v0LbJWOK"
      },
      "source": [
        "Y_pred = model.predict(X_test)\n",
        "Y_pred = (Y_pred >0.5)"
      ],
      "execution_count": null,
      "outputs": []
    },
    {
      "cell_type": "code",
      "metadata": {
        "colab": {
          "base_uri": "https://localhost:8080/"
        },
        "id": "vAv9q4CwJWOK",
        "outputId": "3dac1bd6-3464-46ac-d3f4-aad86b0b9e58"
      },
      "source": [
        "confusion = confusion_matrix(Y_test,Y_pred)        ###Model evaluation\n",
        "precision = precision_score(Y_test,Y_pred)\n",
        "recall = recall_score(Y_test,Y_pred)\n",
        "F1 = f1_score(Y_test,Y_pred)\n",
        "specificity = (confusion[0][0]/(confusion[0][0]+confusion[0][1]))\n",
        "print('confusion matrix {}'.format(confusion))\n",
        "print('precision is {}'.format(precision))\n",
        "print('recall is  {}'.format(recall))\n",
        "print('F1 score {}'.format(F1))\n",
        "print('specificity is {}'.format(specificity))"
      ],
      "execution_count": null,
      "outputs": [
        {
          "output_type": "stream",
          "text": [
            "confusion matrix [[1590    0]\n",
            " [ 100    0]]\n",
            "precision is 0.0\n",
            "recall is  0.0\n",
            "F1 score 0.0\n",
            "specificity is 1.0\n"
          ],
          "name": "stdout"
        },
        {
          "output_type": "stream",
          "text": [
            "/usr/local/lib/python3.7/dist-packages/sklearn/metrics/_classification.py:1272: UndefinedMetricWarning: Precision is ill-defined and being set to 0.0 due to no predicted samples. Use `zero_division` parameter to control this behavior.\n",
            "  _warn_prf(average, modifier, msg_start, len(result))\n"
          ],
          "name": "stderr"
        }
      ]
    },
    {
      "cell_type": "code",
      "metadata": {
        "colab": {
          "base_uri": "https://localhost:8080/",
          "height": 319
        },
        "id": "fAEe1icnJWOL",
        "outputId": "6ba2c49d-db73-45ee-e2b7-edaa6381e641"
      },
      "source": [
        "Y_pred_proba = model.predict_proba(X_test)\n",
        "fpr, tpr, _ = roc_curve(Y_test, Y_pred_proba)\n",
        "auc = roc_auc_score(Y_test, Y_pred_proba)\n",
        "plt.plot(fpr,tpr,label=\"data 1, auc=\"+str(auc))\n",
        "plt.legend(loc=4)\n",
        "plt.show()"
      ],
      "execution_count": null,
      "outputs": [
        {
          "output_type": "stream",
          "text": [
            "/usr/local/lib/python3.7/dist-packages/tensorflow/python/keras/engine/sequential.py:425: UserWarning: `model.predict_proba()` is deprecated and will be removed after 2021-01-01. Please use `model.predict()` instead.\n",
            "  warnings.warn('`model.predict_proba()` is deprecated and '\n"
          ],
          "name": "stderr"
        },
        {
          "output_type": "display_data",
          "data": {
            "image/png": "[encoded data removed]",
            "text/plain": [
              "<Figure size 432x288 with 1 Axes>"
            ]
          },
          "metadata": {
            "tags": [],
            "needs_background": "light"
          }
        }
      ]
    },
    {
      "cell_type": "code",
      "metadata": {
        "id": "Z-sfU-xXJWOL"
      },
      "source": [
        "import numpy as np\n",
        "import pandas as pd\n",
        "import math\n",
        "import matplotlib.pyplot as plt\n",
        "import cv2\n",
        "from sklearn.model_selection import train_test_split, StratifiedKFold\n",
        "import keras\n",
        "from keras.models import Sequential, Model\n",
        "from keras.layers import Input, Flatten, Dense, Dropout, Convolution2D, Conv2D, MaxPooling2D, Lambda, GlobalMaxPooling2D, GlobalAveragePooling2D, BatchNormalization, Activation, AveragePooling2D, Concatenate\n",
        "from keras.preprocessing.image import ImageDataGenerator\n",
        "from keras.callbacks import EarlyStopping, ModelCheckpoint, ReduceLROnPlateau\n",
        "from keras.utils import np_utils\n",
        "\n",
        "%matplotlib inline\n"
      ],
      "execution_count": null,
      "outputs": []
    },
    {
      "cell_type": "code",
      "metadata": {
        "id": "q_9VWkuDwbEa"
      },
      "source": [
        "batch_size=64\n",
        "\n",
        "gen = ImageDataGenerator(horizontal_flip = True,\n",
        "                         vertical_flip = True,\n",
        "                         width_shift_range = 0.1,\n",
        "                         height_shift_range = 0.1,\n",
        "                         zoom_range = 0.1,\n",
        "                         rotation_range = 10\n",
        "                        )\n"
      ],
      "execution_count": null,
      "outputs": []
    },
    {
      "cell_type": "code",
      "metadata": {
        "id": "UTGXb2ZSwgvN"
      },
      "source": [
        "def get_callbacks(name_weights, patience_lr):\n",
        "    mcp_save = ModelCheckpoint(name_weights, save_best_only=True, monitor='val_loss', mode='min')\n",
        "    reduce_lr_loss = ReduceLROnPlateau(monitor='loss', factor=0.1, patience=patience_lr, verbose=1, epsilon=1e-4, mode='min')\n",
        "    return [mcp_save, reduce_lr_loss]\n"
      ],
      "execution_count": null,
      "outputs": []
    },
    {
      "cell_type": "code",
      "metadata": {
        "colab": {
          "base_uri": "https://localhost:8080/",
          "height": 231
        },
        "id": "kg2jwugJwoD4",
        "outputId": "5d86169d-7eef-479d-9d58-442c0a881a8c"
      },
      "source": [
        "for j, (train_idx, val_idx) in enumerate(folds):\n",
        "    \n",
        "    print('\\nFold ',j)\n",
        "    X_train_cv = X_train[train_idx]\n",
        "    y_train_cv = y_train[train_idx]\n",
        "    X_valid_cv = X_train[val_idx]\n",
        "    y_valid_cv= y_train[val_idx]\n",
        "    \n",
        "    name_weights = \"final_model_fold\" + str(j) + \"_weights.h5\"\n",
        "    callbacks = get_callbacks(name_weights = name_weights, patience_lr=10)\n",
        "    generator = gen.flow(X_train_cv, y_train_cv, batch_size = batch_size)\n",
        "    model = get_model()\n",
        "    model.fit_generator(\n",
        "                generator,\n",
        "                steps_per_epoch=len(X_train_cv)/batch_size,\n",
        "                epochs=15,\n",
        "                shuffle=True,\n",
        "                verbose=1,\n",
        "                validation_data = (X_valid_cv, y_valid_cv),\n",
        "                callbacks = callbacks)\n",
        "    \n",
        "    print(model.evaluate(X_valid_cv, y_valid_cv))\n"
      ],
      "execution_count": null,
      "outputs": [
        {
          "output_type": "error",
          "ename": "NameError",
          "evalue": "ignored",
          "traceback": [
            "\u001b[0;31m---------------------------------------------------------------------------\u001b[0m",
            "\u001b[0;31mNameError\u001b[0m                                 Traceback (most recent call last)",
            "\u001b[0;32m<ipython-input-62-62b6b91338ac>\u001b[0m in \u001b[0;36m<module>\u001b[0;34m()\u001b[0m\n\u001b[0;32m----> 1\u001b[0;31m \u001b[0;32mfor\u001b[0m \u001b[0mj\u001b[0m\u001b[0;34m,\u001b[0m \u001b[0;34m(\u001b[0m\u001b[0mtrain_idx\u001b[0m\u001b[0;34m,\u001b[0m \u001b[0mval_idx\u001b[0m\u001b[0;34m)\u001b[0m \u001b[0;32min\u001b[0m \u001b[0menumerate\u001b[0m\u001b[0;34m(\u001b[0m\u001b[0mfolds\u001b[0m\u001b[0;34m)\u001b[0m\u001b[0;34m:\u001b[0m\u001b[0;34m\u001b[0m\u001b[0;34m\u001b[0m\u001b[0m\n\u001b[0m\u001b[1;32m      2\u001b[0m \u001b[0;34m\u001b[0m\u001b[0m\n\u001b[1;32m      3\u001b[0m     \u001b[0mprint\u001b[0m\u001b[0;34m(\u001b[0m\u001b[0;34m'\\nFold '\u001b[0m\u001b[0;34m,\u001b[0m\u001b[0mj\u001b[0m\u001b[0;34m)\u001b[0m\u001b[0;34m\u001b[0m\u001b[0;34m\u001b[0m\u001b[0m\n\u001b[1;32m      4\u001b[0m     \u001b[0mX_train_cv\u001b[0m \u001b[0;34m=\u001b[0m \u001b[0mX_train\u001b[0m\u001b[0;34m[\u001b[0m\u001b[0mtrain_idx\u001b[0m\u001b[0;34m]\u001b[0m\u001b[0;34m\u001b[0m\u001b[0;34m\u001b[0m\u001b[0m\n\u001b[1;32m      5\u001b[0m     \u001b[0my_train_cv\u001b[0m \u001b[0;34m=\u001b[0m \u001b[0my_train\u001b[0m\u001b[0;34m[\u001b[0m\u001b[0mtrain_idx\u001b[0m\u001b[0;34m]\u001b[0m\u001b[0;34m\u001b[0m\u001b[0;34m\u001b[0m\u001b[0m\n",
            "\u001b[0;31mNameError\u001b[0m: name 'folds' is not defined"
          ]
        }
      ]
    },
    {
      "cell_type": "code",
      "metadata": {
        "id": "-wzCx8wRwt1t"
      },
      "source": [
        ""
      ],
      "execution_count": null,
      "outputs": []
    }
  ]
}